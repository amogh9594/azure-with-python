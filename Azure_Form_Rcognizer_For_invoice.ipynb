{
  "nbformat": 4,
  "nbformat_minor": 0,
  "metadata": {
    "colab": {
      "name": "Azure_Form_Rcognizer_For_invoice.ipynb",
      "provenance": [],
      "collapsed_sections": []
    },
    "kernelspec": {
      "name": "python3",
      "display_name": "Python 3"
    },
    "language_info": {
      "name": "python"
    }
  },
  "cells": [
    {
      "cell_type": "markdown",
      "source": [
        "\n",
        "**1. Install packages to cloud**"
      ],
      "metadata": {
        "id": "kSFdpruK0MeP"
      }
    },
    {
      "cell_type": "code",
      "execution_count": null,
      "metadata": {
        "colab": {
          "base_uri": "https://localhost:8080/"
        },
        "id": "IniJUxElzqYf",
        "outputId": "53fc8a8a-9f8f-4139-b43f-03e70b4b5929"
      },
      "outputs": [
        {
          "output_type": "stream",
          "name": "stdout",
          "text": [
            "Collecting azure.storage.blob\n",
            "  Downloading azure_storage_blob-12.11.0-py3-none-any.whl (346 kB)\n",
            "\u001b[K     |████████████████████████████████| 346 kB 4.4 MB/s \n",
            "\u001b[?25hCollecting azure-core<2.0.0,>=1.15.0\n",
            "  Downloading azure_core-1.24.0-py3-none-any.whl (178 kB)\n",
            "\u001b[K     |████████████████████████████████| 178 kB 43.4 MB/s \n",
            "\u001b[?25hCollecting msrest>=0.6.21\n",
            "  Downloading msrest-0.6.21-py2.py3-none-any.whl (85 kB)\n",
            "\u001b[K     |████████████████████████████████| 85 kB 3.5 MB/s \n",
            "\u001b[?25hCollecting cryptography>=2.1.4\n",
            "  Downloading cryptography-37.0.2-cp36-abi3-manylinux_2_24_x86_64.whl (4.0 MB)\n",
            "\u001b[K     |████████████████████████████████| 4.0 MB 47.6 MB/s \n",
            "\u001b[?25hRequirement already satisfied: six>=1.11.0 in /usr/local/lib/python3.7/dist-packages (from azure-core<2.0.0,>=1.15.0->azure.storage.blob) (1.15.0)\n",
            "Requirement already satisfied: requests>=2.18.4 in /usr/local/lib/python3.7/dist-packages (from azure-core<2.0.0,>=1.15.0->azure.storage.blob) (2.23.0)\n",
            "Requirement already satisfied: typing-extensions>=4.0.1 in /usr/local/lib/python3.7/dist-packages (from azure-core<2.0.0,>=1.15.0->azure.storage.blob) (4.2.0)\n",
            "Requirement already satisfied: cffi>=1.12 in /usr/local/lib/python3.7/dist-packages (from cryptography>=2.1.4->azure.storage.blob) (1.15.0)\n",
            "Requirement already satisfied: pycparser in /usr/local/lib/python3.7/dist-packages (from cffi>=1.12->cryptography>=2.1.4->azure.storage.blob) (2.21)\n",
            "Collecting isodate>=0.6.0\n",
            "  Downloading isodate-0.6.1-py2.py3-none-any.whl (41 kB)\n",
            "\u001b[K     |████████████████████████████████| 41 kB 576 kB/s \n",
            "\u001b[?25hRequirement already satisfied: certifi>=2017.4.17 in /usr/local/lib/python3.7/dist-packages (from msrest>=0.6.21->azure.storage.blob) (2021.10.8)\n",
            "Requirement already satisfied: requests-oauthlib>=0.5.0 in /usr/local/lib/python3.7/dist-packages (from msrest>=0.6.21->azure.storage.blob) (1.3.1)\n",
            "Requirement already satisfied: chardet<4,>=3.0.2 in /usr/local/lib/python3.7/dist-packages (from requests>=2.18.4->azure-core<2.0.0,>=1.15.0->azure.storage.blob) (3.0.4)\n",
            "Requirement already satisfied: urllib3!=1.25.0,!=1.25.1,<1.26,>=1.21.1 in /usr/local/lib/python3.7/dist-packages (from requests>=2.18.4->azure-core<2.0.0,>=1.15.0->azure.storage.blob) (1.24.3)\n",
            "Requirement already satisfied: idna<3,>=2.5 in /usr/local/lib/python3.7/dist-packages (from requests>=2.18.4->azure-core<2.0.0,>=1.15.0->azure.storage.blob) (2.10)\n",
            "Requirement already satisfied: oauthlib>=3.0.0 in /usr/local/lib/python3.7/dist-packages (from requests-oauthlib>=0.5.0->msrest>=0.6.21->azure.storage.blob) (3.2.0)\n",
            "Installing collected packages: isodate, msrest, cryptography, azure-core, azure.storage.blob\n",
            "Successfully installed azure-core-1.24.0 azure.storage.blob-12.11.0 cryptography-37.0.2 isodate-0.6.1 msrest-0.6.21\n"
          ]
        }
      ],
      "source": [
        "%pip install azure.storage.blob"
      ]
    },
    {
      "cell_type": "code",
      "source": [
        "%pip install azure.ai.formrecognizer"
      ],
      "metadata": {
        "colab": {
          "base_uri": "https://localhost:8080/"
        },
        "id": "JyB9KcJK0CaE",
        "outputId": "a5d3cdee-246e-4b6d-fb70-e85f3014b377"
      },
      "execution_count": null,
      "outputs": [
        {
          "output_type": "stream",
          "name": "stdout",
          "text": [
            "Collecting azure.ai.formrecognizer\n",
            "  Downloading azure_ai_formrecognizer-3.1.2-py2.py3-none-any.whl (149 kB)\n",
            "\u001b[K     |████████████████████████████████| 149 kB 4.2 MB/s \n",
            "\u001b[?25hCollecting azure-common~=1.1\n",
            "  Downloading azure_common-1.1.28-py2.py3-none-any.whl (14 kB)\n",
            "Requirement already satisfied: six>=1.11.0 in /usr/local/lib/python3.7/dist-packages (from azure.ai.formrecognizer) (1.15.0)\n",
            "Requirement already satisfied: azure-core<2.0.0,>=1.13.0 in /usr/local/lib/python3.7/dist-packages (from azure.ai.formrecognizer) (1.24.0)\n",
            "Requirement already satisfied: msrest>=0.6.21 in /usr/local/lib/python3.7/dist-packages (from azure.ai.formrecognizer) (0.6.21)\n",
            "Requirement already satisfied: typing-extensions>=4.0.1 in /usr/local/lib/python3.7/dist-packages (from azure-core<2.0.0,>=1.13.0->azure.ai.formrecognizer) (4.2.0)\n",
            "Requirement already satisfied: requests>=2.18.4 in /usr/local/lib/python3.7/dist-packages (from azure-core<2.0.0,>=1.13.0->azure.ai.formrecognizer) (2.23.0)\n",
            "Requirement already satisfied: requests-oauthlib>=0.5.0 in /usr/local/lib/python3.7/dist-packages (from msrest>=0.6.21->azure.ai.formrecognizer) (1.3.1)\n",
            "Requirement already satisfied: certifi>=2017.4.17 in /usr/local/lib/python3.7/dist-packages (from msrest>=0.6.21->azure.ai.formrecognizer) (2021.10.8)\n",
            "Requirement already satisfied: isodate>=0.6.0 in /usr/local/lib/python3.7/dist-packages (from msrest>=0.6.21->azure.ai.formrecognizer) (0.6.1)\n",
            "Requirement already satisfied: urllib3!=1.25.0,!=1.25.1,<1.26,>=1.21.1 in /usr/local/lib/python3.7/dist-packages (from requests>=2.18.4->azure-core<2.0.0,>=1.13.0->azure.ai.formrecognizer) (1.24.3)\n",
            "Requirement already satisfied: chardet<4,>=3.0.2 in /usr/local/lib/python3.7/dist-packages (from requests>=2.18.4->azure-core<2.0.0,>=1.13.0->azure.ai.formrecognizer) (3.0.4)\n",
            "Requirement already satisfied: idna<3,>=2.5 in /usr/local/lib/python3.7/dist-packages (from requests>=2.18.4->azure-core<2.0.0,>=1.13.0->azure.ai.formrecognizer) (2.10)\n",
            "Requirement already satisfied: oauthlib>=3.0.0 in /usr/local/lib/python3.7/dist-packages (from requests-oauthlib>=0.5.0->msrest>=0.6.21->azure.ai.formrecognizer) (3.2.0)\n",
            "Installing collected packages: azure-common, azure.ai.formrecognizer\n",
            "Successfully installed azure-common-1.1.28 azure.ai.formrecognizer-3.1.2\n"
          ]
        }
      ]
    },
    {
      "cell_type": "markdown",
      "source": [
        "\n",
        "**2. Connect to Azure Storage Container** "
      ],
      "metadata": {
        "id": "_TdzppJf0Qi_"
      }
    },
    {
      "cell_type": "code",
      "source": [
        "from azure.storage.blob import ContainerClient\n",
        "\n",
        "container_url = \"https://xxxxxxxxx/testinvoice\"\n",
        "container = ContainerClient.from_container_url(container_url)\n",
        "\n",
        "for blob in container.list_blobs():\n",
        " \n",
        "  blob_url = container_url + \"/\" + blob.name\n",
        "  print(blob_url)"
      ],
      "metadata": {
        "id": "NAORfl3L0aGA"
      },
      "execution_count": null,
      "outputs": []
    },
    {
      "cell_type": "markdown",
      "source": [
        "**3. Enable Congitive Services**"
      ],
      "metadata": {
        "id": "2k8JbGl__rjU"
      }
    },
    {
      "cell_type": "code",
      "source": [
        "import requests\n",
        "from azure.ai.formrecognizer import FormRecognizerClient\n",
        "from azure.core.credentials import AzureKeyCredential\n",
        "\n",
        "endpoint = \"https://xxxxxxxx/\"\n",
        "credential = AzureKeyCredential(\"xxxxxxxxxxxxxxxx\")\n",
        "form_recognizer_client = FormRecognizerClient(endpoint, credential)\n",
        "print(form_recognizer_client)\n",
        "\n",
        "# endpoint = dbutils.secrets.get(scope=\"formrec\",key=\"https://ocr-invoice-multiline.cognitiveservices.azure.com/\")\n",
        "# key = dbutils.secrets.get(scope=\"formrec\",key=\"6ba97bb2df58483aa6a17fa2db9914ab\")\n",
        "\n",
        "# form_recognizer_client = FormRecognizerClient(endpoint=endpoint, credential=AzureKeyCredential(key))"
      ],
      "metadata": {
        "id": "TfEf4AFO_qoK",
        "colab": {
          "base_uri": "https://localhost:8080/"
        },
        "outputId": "2f3bf450-f9ae-4931-d5e6-69be10b1813a"
      },
      "execution_count": null,
      "outputs": [
        {
          "output_type": "stream",
          "name": "stdout",
          "text": [
            "<azure.ai.formrecognizer._form_recognizer_client.FormRecognizerClient object at 0x7f021415ccd0>\n"
          ]
        }
      ]
    },
    {
      "cell_type": "markdown",
      "source": [
        "**4. Create dataframe of invoice data.**"
      ],
      "metadata": {
        "id": "U1Fetr8ywNpc"
      }
    },
    {
      "cell_type": "code",
      "source": [
        "import pandas as pd\n",
        "\n",
        "field_list = [\"InvoiceId\", \"VendorName\", \"VendorAddress\", \"CustomerName\", \"CustomerAddress\", \"CustomerAddressRecipient\", \"InvoiceDate\", \"InvoiceTotal\", \"DueDate\"]\n",
        "df = pd.DataFrame(columns=field_list)\n",
        "\n",
        "for blob in container.list_blobs():\n",
        "  blob_url = container_url + \"/\" + blob.name\n",
        "\n",
        "  poller = form_recognizer_client.begin_recognize_invoices_from_url(blob_url)\n",
        "  # poller = form_recognizer_client.begin_recognize_invoices_from_url(invoice_url=blob_url)\n",
        "  invoices = poller.result()\n",
        "  print(\"Scanning \" + blob.name + \"...\")\n",
        "  \n",
        "  for idx, invoice in enumerate(invoices):\n",
        "      single_df = pd.DataFrame(columns=field_list)\n",
        "\n",
        "      for field in field_list:\n",
        "        entry = invoice.fields.get(field)\n",
        "        \n",
        "        if entry:\n",
        "          single_df[field] = [entry.value]\n",
        "          \n",
        "      single_df['FileName'] = blob.name\n",
        "      df = df.append(single_df)\n",
        "\n",
        "df = df.reset_index(drop=True)\n",
        "df"
      ],
      "metadata": {
        "id": "JTVOc3ftwRjY",
        "colab": {
          "base_uri": "https://localhost:8080/",
          "height": 398
        },
        "outputId": "e792d356-38d1-4dca-c885-5b496f8b7565"
      },
      "execution_count": null,
      "outputs": [
        {
          "output_type": "stream",
          "name": "stdout",
          "text": [
            "Scanning HARBHOLETEMPOSERVICE.png...\n",
            "Scanning LOGIX.pdf...\n"
          ]
        },
        {
          "output_type": "execute_result",
          "data": {
            "text/plain": [
              "                     InvoiceId                   VendorName  \\\n",
              "0                   9167364045      HAR BHOLE TEMPO SERVICE   \n",
              "1  ILPL212200774 ILPL212200774  Logix Infosecurity Pvt.Ltd.   \n",
              "\n",
              "                                       VendorAddress  \\\n",
              "0  Shop No. 3, Sai Niketan, Bhattwadi, Kisan Naga...   \n",
              "1  Unit no.127, bldg. No. 2 (A-3), Sector - 1, Mi...   \n",
              "\n",
              "                          CustomerName  \\\n",
              "0                                  NaN   \n",
              "1  MULTILINE BUSINESS SOLUTION PVT LTD   \n",
              "\n",
              "                                     CustomerAddress  \\\n",
              "0                                                NaN   \n",
              "1  1st Floor, Parekh Print, Itilian Compound, IIT...   \n",
              "\n",
              "              CustomerAddressRecipient InvoiceDate  InvoiceTotal DueDate  \\\n",
              "0                                  NaN         NaN       27400.0     NaN   \n",
              "1  MULTILINE BUSINESS SOLUTION PVT LTD        None           0.0     NaN   \n",
              "\n",
              "                   FileName  \n",
              "0  HARBHOLETEMPOSERVICE.png  \n",
              "1                 LOGIX.pdf  "
            ],
            "text/html": [
              "\n",
              "  <div id=\"df-bb42ac8e-fed1-4b67-b369-ca331f5b05bd\">\n",
              "    <div class=\"colab-df-container\">\n",
              "      <div>\n",
              "<style scoped>\n",
              "    .dataframe tbody tr th:only-of-type {\n",
              "        vertical-align: middle;\n",
              "    }\n",
              "\n",
              "    .dataframe tbody tr th {\n",
              "        vertical-align: top;\n",
              "    }\n",
              "\n",
              "    .dataframe thead th {\n",
              "        text-align: right;\n",
              "    }\n",
              "</style>\n",
              "<table border=\"1\" class=\"dataframe\">\n",
              "  <thead>\n",
              "    <tr style=\"text-align: right;\">\n",
              "      <th></th>\n",
              "      <th>InvoiceId</th>\n",
              "      <th>VendorName</th>\n",
              "      <th>VendorAddress</th>\n",
              "      <th>CustomerName</th>\n",
              "      <th>CustomerAddress</th>\n",
              "      <th>CustomerAddressRecipient</th>\n",
              "      <th>InvoiceDate</th>\n",
              "      <th>InvoiceTotal</th>\n",
              "      <th>DueDate</th>\n",
              "      <th>FileName</th>\n",
              "    </tr>\n",
              "  </thead>\n",
              "  <tbody>\n",
              "    <tr>\n",
              "      <th>0</th>\n",
              "      <td>9167364045</td>\n",
              "      <td>HAR BHOLE TEMPO SERVICE</td>\n",
              "      <td>Shop No. 3, Sai Niketan, Bhattwadi, Kisan Naga...</td>\n",
              "      <td>NaN</td>\n",
              "      <td>NaN</td>\n",
              "      <td>NaN</td>\n",
              "      <td>NaN</td>\n",
              "      <td>27400.0</td>\n",
              "      <td>NaN</td>\n",
              "      <td>HARBHOLETEMPOSERVICE.png</td>\n",
              "    </tr>\n",
              "    <tr>\n",
              "      <th>1</th>\n",
              "      <td>ILPL212200774 ILPL212200774</td>\n",
              "      <td>Logix Infosecurity Pvt.Ltd.</td>\n",
              "      <td>Unit no.127, bldg. No. 2 (A-3), Sector - 1, Mi...</td>\n",
              "      <td>MULTILINE BUSINESS SOLUTION PVT LTD</td>\n",
              "      <td>1st Floor, Parekh Print, Itilian Compound, IIT...</td>\n",
              "      <td>MULTILINE BUSINESS SOLUTION PVT LTD</td>\n",
              "      <td>None</td>\n",
              "      <td>0.0</td>\n",
              "      <td>NaN</td>\n",
              "      <td>LOGIX.pdf</td>\n",
              "    </tr>\n",
              "  </tbody>\n",
              "</table>\n",
              "</div>\n",
              "      <button class=\"colab-df-convert\" onclick=\"convertToInteractive('df-bb42ac8e-fed1-4b67-b369-ca331f5b05bd')\"\n",
              "              title=\"Convert this dataframe to an interactive table.\"\n",
              "              style=\"display:none;\">\n",
              "        \n",
              "  <svg xmlns=\"http://www.w3.org/2000/svg\" height=\"24px\"viewBox=\"0 0 24 24\"\n",
              "       width=\"24px\">\n",
              "    <path d=\"M0 0h24v24H0V0z\" fill=\"none\"/>\n",
              "    <path d=\"M18.56 5.44l.94 2.06.94-2.06 2.06-.94-2.06-.94-.94-2.06-.94 2.06-2.06.94zm-11 1L8.5 8.5l.94-2.06 2.06-.94-2.06-.94L8.5 2.5l-.94 2.06-2.06.94zm10 10l.94 2.06.94-2.06 2.06-.94-2.06-.94-.94-2.06-.94 2.06-2.06.94z\"/><path d=\"M17.41 7.96l-1.37-1.37c-.4-.4-.92-.59-1.43-.59-.52 0-1.04.2-1.43.59L10.3 9.45l-7.72 7.72c-.78.78-.78 2.05 0 2.83L4 21.41c.39.39.9.59 1.41.59.51 0 1.02-.2 1.41-.59l7.78-7.78 2.81-2.81c.8-.78.8-2.07 0-2.86zM5.41 20L4 18.59l7.72-7.72 1.47 1.35L5.41 20z\"/>\n",
              "  </svg>\n",
              "      </button>\n",
              "      \n",
              "  <style>\n",
              "    .colab-df-container {\n",
              "      display:flex;\n",
              "      flex-wrap:wrap;\n",
              "      gap: 12px;\n",
              "    }\n",
              "\n",
              "    .colab-df-convert {\n",
              "      background-color: #E8F0FE;\n",
              "      border: none;\n",
              "      border-radius: 50%;\n",
              "      cursor: pointer;\n",
              "      display: none;\n",
              "      fill: #1967D2;\n",
              "      height: 32px;\n",
              "      padding: 0 0 0 0;\n",
              "      width: 32px;\n",
              "    }\n",
              "\n",
              "    .colab-df-convert:hover {\n",
              "      background-color: #E2EBFA;\n",
              "      box-shadow: 0px 1px 2px rgba(60, 64, 67, 0.3), 0px 1px 3px 1px rgba(60, 64, 67, 0.15);\n",
              "      fill: #174EA6;\n",
              "    }\n",
              "\n",
              "    [theme=dark] .colab-df-convert {\n",
              "      background-color: #3B4455;\n",
              "      fill: #D2E3FC;\n",
              "    }\n",
              "\n",
              "    [theme=dark] .colab-df-convert:hover {\n",
              "      background-color: #434B5C;\n",
              "      box-shadow: 0px 1px 3px 1px rgba(0, 0, 0, 0.15);\n",
              "      filter: drop-shadow(0px 1px 2px rgba(0, 0, 0, 0.3));\n",
              "      fill: #FFFFFF;\n",
              "    }\n",
              "  </style>\n",
              "\n",
              "      <script>\n",
              "        const buttonEl =\n",
              "          document.querySelector('#df-bb42ac8e-fed1-4b67-b369-ca331f5b05bd button.colab-df-convert');\n",
              "        buttonEl.style.display =\n",
              "          google.colab.kernel.accessAllowed ? 'block' : 'none';\n",
              "\n",
              "        async function convertToInteractive(key) {\n",
              "          const element = document.querySelector('#df-bb42ac8e-fed1-4b67-b369-ca331f5b05bd');\n",
              "          const dataTable =\n",
              "            await google.colab.kernel.invokeFunction('convertToInteractive',\n",
              "                                                     [key], {});\n",
              "          if (!dataTable) return;\n",
              "\n",
              "          const docLinkHtml = 'Like what you see? Visit the ' +\n",
              "            '<a target=\"_blank\" href=https://colab.research.google.com/notebooks/data_table.ipynb>data table notebook</a>'\n",
              "            + ' to learn more about interactive tables.';\n",
              "          element.innerHTML = '';\n",
              "          dataTable['output_type'] = 'display_data';\n",
              "          await google.colab.output.renderOutput(dataTable, element);\n",
              "          const docLink = document.createElement('div');\n",
              "          docLink.innerHTML = docLinkHtml;\n",
              "          element.appendChild(docLink);\n",
              "        }\n",
              "      </script>\n",
              "    </div>\n",
              "  </div>\n",
              "  "
            ]
          },
          "metadata": {},
          "execution_count": 5
        }
      ]
    },
    {
      "cell_type": "code",
      "source": [
        "df.to_csv('invoice_data.csv')"
      ],
      "metadata": {
        "id": "9LQ_eDrAuACM"
      },
      "execution_count": null,
      "outputs": []
    },
    {
      "cell_type": "code",
      "source": [
        "# account_name = \"formrecognizerdemo070621\"\n",
        "# account_key = \"fs.azure.account.key.\" + account_name + \".blob.core.windows.net\"\n",
        "\n",
        "# try: \n",
        "#   dbutils.fs.mount(\n",
        "#     source = \"wasbs://pdf-recognized@formrecognizerdemo070621.blob.core.windows.net\",\n",
        "#     mount_point = \"/mnt/pdf-recognized\",\n",
        "#     extra_configs = {account_key: dbutils.secrets.get(scope = \"formrec\", key = \"formreckey\")} )\n",
        "\n",
        "# except:\n",
        "#   print('Directory already mounted or error')\n",
        "\n",
        "# df.to_csv(r\"/dbfs/mnt/pdf-recognized/output.csv\", index=False)\n"
      ],
      "metadata": {
        "id": "9iWx5zC1wjh6"
      },
      "execution_count": null,
      "outputs": []
    }
  ]
}